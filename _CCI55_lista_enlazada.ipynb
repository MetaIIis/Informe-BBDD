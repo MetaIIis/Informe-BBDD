{
  "nbformat": 4,
  "nbformat_minor": 0,
  "metadata": {
    "colab": {
      "name": "#CCI55 lista enlazada",
      "provenance": [],
      "collapsed_sections": [],
      "include_colab_link": true
    },
    "kernelspec": {
      "name": "python3",
      "display_name": "Python 3"
    },
    "language_info": {
      "name": "python"
    }
  },
  "cells": [
    {
      "cell_type": "markdown",
      "metadata": {
        "id": "view-in-github",
        "colab_type": "text"
      },
      "source": [
        "<a href=\"https://colab.research.google.com/github/MetaIIis/Informe-BBDD/blob/main/_CCI55_lista_enlazada.ipynb\" target=\"_parent\"><img src=\"https://colab.research.google.com/assets/colab-badge.svg\" alt=\"Open In Colab\"/></a>"
      ]
    },
    {
      "cell_type": "code",
      "execution_count": 1,
      "metadata": {
        "id": "KRt_9Wd5krHY",
        "colab": {
          "base_uri": "https://localhost:8080/"
        },
        "outputId": "73993564-3f73-4a53-d44a-8a291d80dfc1"
      },
      "outputs": [
        {
          "output_type": "stream",
          "name": "stdout",
          "text": [
            "Collecting google-colab-shell\n",
            "  Downloading google-colab-shell-0.2.tar.gz (4.2 kB)\n",
            "Building wheels for collected packages: google-colab-shell\n",
            "  Building wheel for google-colab-shell (setup.py) ... \u001b[?25l\u001b[?25hdone\n",
            "  Created wheel for google-colab-shell: filename=google_colab_shell-0.2-py3-none-any.whl size=4124 sha256=713ea9b97079d41cc49a60b0ec3d066fdfc49e01ac779b5ec298d670eb997695\n",
            "  Stored in directory: /root/.cache/pip/wheels/ee/62/db/d033316a546102d1da60b51a0cc4ddcf0b8c3cc6044469a47b\n",
            "Successfully built google-colab-shell\n",
            "Installing collected packages: google-colab-shell\n",
            "Successfully installed google-colab-shell-0.2\n"
          ]
        }
      ],
      "source": [
        "!pip install google-colab-shell"
      ]
    },
    {
      "cell_type": "code",
      "source": [
        "from google_colab_shell import getshell\n",
        "getshell(height=300)"
      ],
      "metadata": {
        "colab": {
          "base_uri": "https://localhost:8080/",
          "height": 317
        },
        "id": "jdINkEgFmM3W",
        "outputId": "ffe04fc6-5e30-4cfd-e697-7fa8cea7bdde"
      },
      "execution_count": 2,
      "outputs": [
        {
          "output_type": "execute_result",
          "data": {
            "text/plain": [
              "<IPython.core.display.HTML object>"
            ],
            "text/html": [
              "<!--https://github.com/singhsidhukuldeep/Google-Colab-Shell/-->\n",
              "<!--Using JS/CSS from official sources with backups in-case :)-->\n",
              "<div id=colab_shell></div>\n",
              "<script src=\"https://code.jquery.com/jquery-latest.js\"></script>\n",
              "<script src=\"https://cdn.jsdelivr.net/npm/jquery.terminal/js/jquery.terminal.min.js\"></script>\n",
              "<link href=\"https://cdn.jsdelivr.net/npm/jquery.terminal/css/jquery.terminal.min.css\" rel=\"stylesheet\"/>\n",
              "<script>\n",
              "   $('#colab_shell').terminal(async function(command) {\n",
              "       if (command !== '') {\n",
              "           try {\n",
              "               let res = await google.colab.kernel.invokeFunction('shell', [command])\n",
              "               let out = res.data['application/json'][0]\n",
              "               this.echo(new String(out))\n",
              "           } catch(e) {\n",
              "               this.error(new String(e));\n",
              "           }\n",
              "       } else {\n",
              "           this.echo(\n",
              "             //   '>>Empty Command<<\\n'+\n",
              "             //   'If you can afford use Google Colab Pro'\n",
              "               );\n",
              "       }\n",
              "   }, {\n",
              "       greetings: 'Welcome to Google Colab Shell\\n'+\n",
              "         'If you can afford, please use Google Colab Pro ( https://colab.research.google.com/signup )\\n'+\n",
              "         '⭐ STAR the repo ⭐\\n https://github.com/singhsidhukuldeep/Google-Colab-Shell\\n\\n',\n",
              "       name: 'colab_shell',\n",
              "       height: 300,\n",
              "       prompt: '█$ colab>>\\t'\n",
              "   });\n",
              "</script>\n"
            ]
          },
          "metadata": {},
          "execution_count": 2
        }
      ]
    },
    {
      "cell_type": "code",
      "source": [
        "%%writefile lista.h\n",
        "#ifndef _LISTA_H_\n",
        "#define _LISTA_H_\n",
        "\n",
        "#include <iostream>\n",
        "#include <cstdio>\n",
        "\n",
        "class nodo{\n",
        "  private:\n",
        "  int dato;\n",
        "  nodo *sig;\n",
        "\n",
        "  public:\n",
        "  nodo(int);\n",
        "  bool set_sig(nodo *);\n",
        "  nodo *get_sig();\n",
        "  int get_dato();\n",
        "  void imprimir();\n",
        "};\n",
        "\n",
        "class lista_enlazada{\n",
        "  private:\n",
        "  nodo *first;\n",
        "  nodo *last;\n",
        "  nodo *curr;\n",
        "  int num_elems;\n",
        "\n",
        "  public:\n",
        "  lista_enlazada();\n",
        "  bool add_nodo(int);\n",
        "  void imprimir();\n",
        "  bool del_nodo(int);\n",
        "};\n",
        "\n",
        "#endif"
      ],
      "metadata": {
        "colab": {
          "base_uri": "https://localhost:8080/"
        },
        "id": "rBHw1KphmVbH",
        "outputId": "39acebdd-6a00-4967-9450-93723e3847ab"
      },
      "execution_count": 9,
      "outputs": [
        {
          "output_type": "stream",
          "name": "stdout",
          "text": [
            "Overwriting lista.h\n"
          ]
        }
      ]
    },
    {
      "cell_type": "code",
      "source": [
        "%%writefile lista.cpp\n",
        "\n",
        "#include \"lista.h\"\n",
        "\n",
        "lista_enlazada::lista_enlazada(){\n",
        "    first = NULL;\n",
        "    last = NULL;\n",
        "    curr = NULL;\n",
        "    num_elems = 0;\n",
        "}\n",
        "\n",
        "bool lista_enlazada::add_nodo(int dato){\n",
        "    nodo *nuevo;\n",
        "    nuevo = new nodo(dato);\n",
        "\n",
        "    nuevo->set_sig(first);\n",
        "\n",
        "    first = nuevo;\n",
        "    if(num_elems == 0) last = nuevo;\n",
        "\n",
        "    num_elems++;\n",
        "\n",
        "    return true;\n",
        "}\n",
        "\n",
        "nodo::nodo(int dato){\n",
        "    this->dato = dato;\n",
        "    sig = NULL;\n",
        "}\n",
        "\n",
        "bool nodo::set_sig(nodo *s){\n",
        "    sig = s;\n",
        "}\n",
        "\n",
        "void nodo::imprimir(){\n",
        "    std::cout << dato << std::endl;\n",
        "}\n",
        "\n",
        "nodo *nodo::get_sig(){\n",
        "    return sig;\n",
        "}\n",
        "\n",
        "void lista_enlazada::imprimir(){\n",
        "    curr = first;\n",
        "\n",
        "    while(curr!= NULL){\n",
        "        curr->imprimir();\n",
        "        curr = curr->get_sig();\n",
        "    }\n",
        "}\n",
        "\n",
        "int nodo::get_dato(){\n",
        "    return dato;\n",
        "}\n",
        "\n",
        "bool lista_enlazada::del_nodo(int d){\n",
        "    nodo *aux = NULL;\n",
        "    curr = first;\n",
        "\n",
        "    // si el numero a borrar es el primero\n",
        "    if(curr->get_dato() == d){\n",
        "      first = curr->get_sig(); // es lo mismo que first = first->get_sig() \n",
        "      delete curr;\n",
        "    }\n",
        "    else{ // caso general de borrado  \n",
        "      while(curr!= NULL && curr->get_sig()->get_dato() != d){\n",
        "          curr = curr->get_sig();\n",
        "      }\n",
        "\n",
        "      if(curr == NULL){\n",
        "          return false;\n",
        "      }\n",
        "\n",
        "      aux = curr->get_sig();\n",
        "      if(aux == last){ // en el caso que queramos borrar el ultimo\n",
        "          last = curr;\n",
        "      }\n",
        "      curr->set_sig(aux->get_sig());\n",
        "      delete aux;\n",
        "    }\n",
        "\n",
        "    return true;\n",
        "}"
      ],
      "metadata": {
        "colab": {
          "base_uri": "https://localhost:8080/"
        },
        "id": "xMnC_aEindUY",
        "outputId": "f4aa226c-6f4a-4372-cb16-bdd22f02fd2a"
      },
      "execution_count": 4,
      "outputs": [
        {
          "output_type": "stream",
          "name": "stdout",
          "text": [
            "Writing lista.cpp\n"
          ]
        }
      ]
    },
    {
      "cell_type": "code",
      "source": [
        "%%writefile main.cpp\n",
        "\n",
        "#include <iostream>\n",
        "#include <cstdio>\n",
        "#include \"lista.h\"\n",
        "\n",
        "using namespace std;\n",
        "\n",
        "main(){\n",
        "    lista_enlazada *head = NULL;\n",
        "\n",
        "    head = new lista_enlazada();\n",
        "    head->add_nodo(0);\n",
        "    head->add_nodo(1);\n",
        "    head->add_nodo(2);\n",
        "    head->add_nodo(3);\n",
        "    head->add_nodo(4);\n",
        "    head->add_nodo(5);\n",
        "    head->add_nodo(6);\n",
        "    head->add_nodo(7);\n",
        "    head->add_nodo(8);\n",
        "    head->add_nodo(9);\n",
        "\n",
        "    head->imprimir();\n",
        "\n",
        "    head->del_nodo(5);\n",
        "\n",
        "    head->imprimir();\n",
        "}"
      ],
      "metadata": {
        "colab": {
          "base_uri": "https://localhost:8080/"
        },
        "id": "IBCPCNIknjex",
        "outputId": "ddfc4f2c-c926-464a-f93c-c6569f30f81f"
      },
      "execution_count": 6,
      "outputs": [
        {
          "output_type": "stream",
          "name": "stdout",
          "text": [
            "Overwriting main.cpp\n"
          ]
        }
      ]
    }
  ]
}